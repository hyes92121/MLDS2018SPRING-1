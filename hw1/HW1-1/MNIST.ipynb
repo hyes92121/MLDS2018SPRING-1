{
 "cells": [
  {
   "cell_type": "code",
   "execution_count": 2,
   "metadata": {
    "collapsed": true
   },
   "outputs": [],
   "source": [
    "import argparse, json\n",
    "from pprint import pprint\n",
    "import numpy as np\n",
    "import matplotlib.pyplot as plt\n",
    "import matplotlib.lines as mlines\n",
    "\n",
    "# import tensorflow as tf\n",
    "import torch\n",
    "import torch.nn as nn\n",
    "import torch.nn.functional as F\n",
    "import torch.optim as optim\n",
    "from torchvision import datasets, transforms\n",
    "from torch.autograd import Variable\n",
    "from tensorboardX import SummaryWriter"
   ]
  },
  {
   "cell_type": "code",
   "execution_count": 3,
   "metadata": {
    "collapsed": true
   },
   "outputs": [],
   "source": [
    "# Training settings\n",
    "parser = argparse.ArgumentParser(description='PyTorch MNIST Example')\n",
    "parser.add_argument('--batch-size', type=int, default=64, metavar='N',\n",
    "                    help='input batch size for training (default: 64)')\n",
    "parser.add_argument('--test-batch-size', type=int, default=1000, metavar='N',\n",
    "                    help='input batch size for testing (default: 1000)')\n",
    "parser.add_argument('--epochs', type=int, default=20, metavar='N',\n",
    "                    help='number of epochs to train (default: 10)')\n",
    "parser.add_argument('--lr', type=float, default=0.01, metavar='LR',\n",
    "                    help='learning rate (default: 0.01)')\n",
    "parser.add_argument('--momentum', type=float, default=0.5, metavar='M',\n",
    "                    help='SGD momentum (default: 0.5)')\n",
    "parser.add_argument('--no-cuda', action='store_true', default=False,\n",
    "                    help='disables CUDA training')\n",
    "parser.add_argument('--seed', type=int, default=1, metavar='S',\n",
    "                    help='random seed (default: 1)')\n",
    "parser.add_argument('--log-interval', type=int, default=10, metavar='N',\n",
    "                    help='how many batches to wait before logging training status')\n",
    "args = parser.parse_args([]) # default: taken from sys.argv\n",
    "args.cuda = not args.no_cuda and torch.cuda.is_available()\n",
    "\n",
    "torch.manual_seed(args.seed)\n",
    "if args.cuda:\n",
    "    torch.cuda.manual_seed(args.seed)\n",
    "\n",
    "\n",
    "kwargs = {'num_workers': 1, 'pin_memory': True} if args.cuda else {}\n",
    "\n",
    "train_loader = torch.utils.data.DataLoader(\n",
    "    datasets.MNIST('MNIST_data', train=True, download=True,\n",
    "                   transform=transforms.Compose([\n",
    "                       transforms.ToTensor(),\n",
    "                       transforms.Normalize((0.1307,), (0.3081,)) # (mean, std)\n",
    "                   ])),\n",
    "    batch_size=args.batch_size, shuffle=True, **kwargs)\n",
    "test_loader = torch.utils.data.DataLoader(\n",
    "    datasets.MNIST('MNIST_data', train=False, transform=transforms.Compose([\n",
    "                       transforms.ToTensor(),\n",
    "                       transforms.Normalize((0.1307,), (0.3081,)) \n",
    "                   ])),\n",
    "    batch_size=args.test_batch_size, shuffle=True, **kwargs)"
   ]
  },
  {
   "cell_type": "markdown",
   "metadata": {},
   "source": [
    "## Models"
   ]
  },
  {
   "cell_type": "markdown",
   "metadata": {},
   "source": [
    "### 2FC"
   ]
  },
  {
   "cell_type": "code",
   "execution_count": 38,
   "metadata": {},
   "outputs": [
    {
     "name": "stdout",
     "output_type": "stream",
     "text": [
      "model params: 21840\n"
     ]
    }
   ],
   "source": [
    "class CNN_2FC(nn.Module):\n",
    "    def __init__(self):\n",
    "        super(CNN_2FC, self).__init__()\n",
    "        self.conv1 = nn.Conv2d(1, 10, kernel_size=5)\n",
    "        self.max_pool1 = nn.MaxPool2d(2)\n",
    "        self.conv2 = nn.Conv2d(10, 20, kernel_size=5)\n",
    "        self.conv2_drop = nn.Dropout2d() # p=0.5 by default\n",
    "        self.max_pool2 = nn.MaxPool2d(2)\n",
    "        self.fc1 = nn.Linear(320, 50)\n",
    "        self.fc2 = nn.Linear(50, 10)\n",
    "\n",
    "    def forward(self, x):\n",
    "        x = F.relu(self.max_pool1(self.conv1(x))) # (input, kernel_size)\n",
    "        x = F.relu(self.max_pool2(self.conv2_drop(self.conv2(x)),))\n",
    "        x = x.view(-1, 320) # flatten\n",
    "        x = F.relu(self.fc1(x))\n",
    "        x = F.dropout(x, training=self.training)\n",
    "        x = self.fc2(x)\n",
    "        return F.log_softmax(x, dim=1)\n",
    "\n",
    "model = CNN_2FC()\n",
    "model_parameters = filter(lambda p: p.requires_grad, model.parameters())\n",
    "num_params = sum([np.prod(p.size()) for p in model_parameters])\n",
    "print('model params:', num_params)\n",
    "# if args.cuda:\n",
    "#     model.cuda()\n",
    "\n",
    "optimizer = optim.SGD(model.parameters(), lr=args.lr, momentum=args.momentum)\n",
    "\n",
    "def train(epoch):\n",
    "    model.train() # set to training mode\n",
    "    for batch_idx, (data, target) in enumerate(train_loader):\n",
    "        if args.cuda:\n",
    "            data, target = data.cuda(), target.cuda()\n",
    "        data, target = Variable(data), Variable(target) # not storing gradients\n",
    "        optimizer.zero_grad()\n",
    "        output = model(data)\n",
    "        loss = F.nll_loss(output, target)\n",
    "        loss.backward()\n",
    "        optimizer.step()\n",
    "        if batch_idx % args.log_interval == 0:\n",
    "            print('Train Epoch: {} [{}/{} ({:.0f}%)]\\tLoss: {:.6f}'.format(\n",
    "                epoch, batch_idx * len(data), len(train_loader.dataset),\n",
    "                100. * batch_idx / len(train_loader), loss.data[0]))\n",
    "\n",
    "def trained_epoch(epoch):\n",
    "    model.eval()# set to evaluation mode\n",
    "    trained_loss = 0\n",
    "    correct = 0\n",
    "    for data, target in train_loader:\n",
    "        if args.cuda:\n",
    "            data, target = data.cuda(), target.cuda()\n",
    "        data, target = Variable(data, volatile=True), Variable(target) # no intermediate states will be saved\n",
    "        output = model(data)\n",
    "        trained_loss += F.nll_loss(output, target, size_average=False).data[0] # want to average loss over entire test set, not just minibatch\n",
    "        pred = output.data.max(1, keepdim=True)[1] # get the index of the max log-probability\n",
    "        correct += pred.eq(target.data.view_as(pred)).long().cpu().sum()\n",
    "    \n",
    "    trained_loss /= len(train_loader.dataset)\n",
    "    trained_accuracy = correct / len(train_loader.dataset)\n",
    "    writer.add_scalar('data/train_loss', trained_loss, epoch) # try add_scalars() later\n",
    "    writer.add_scalar('data/train_accuracy', trained_accuracy, epoch)\n",
    "    print('\\nTrain set: Average loss: {:.4f}, Accuracy: {}/{} ({:.0f}%)'.format(\n",
    "        trained_loss, correct, len(train_loader.dataset),\n",
    "        100. * trained_accuracy))\n",
    "            \n",
    "def test(epoch):\n",
    "    model.eval()# set to evaluation mode\n",
    "    test_loss = 0\n",
    "    correct = 0\n",
    "    for data, target in test_loader:\n",
    "        if args.cuda:\n",
    "            data, target = data.cuda(), target.cuda()\n",
    "        data, target = Variable(data, volatile=True), Variable(target) # no intermediate states will be saved\n",
    "        output = model(data)\n",
    "        test_loss += F.nll_loss(output, target, size_average=False).data[0] # want to average loss over entire test set, not just minibatch\n",
    "        pred = output.data.max(1, keepdim=True)[1] # get the index of the max log-probability\n",
    "        correct += pred.eq(target.data.view_as(pred)).long().cpu().sum()\n",
    "\n",
    "    test_loss /= len(test_loader.dataset)\n",
    "    test_accuracy = correct / len(test_loader.dataset)\n",
    "    writer.add_scalar('data/test_loss', test_loss, epoch) # try add_scalars() later\n",
    "    writer.add_scalar('data/test_accuracy', test_accuracy, epoch)\n",
    "    print('\\nTest set: Average loss: {:.4f}, Accuracy: {}/{} ({:.0f}%)\\n'.format(\n",
    "        test_loss, correct, len(test_loader.dataset),\n",
    "        100. * test_accuracy))\n",
    "    \n",
    "    writer.export_scalars_to_json(\"./CNN_2FC.json\")"
   ]
  },
  {
   "cell_type": "markdown",
   "metadata": {},
   "source": [
    "### 3FC"
   ]
  },
  {
   "cell_type": "code",
   "execution_count": 57,
   "metadata": {},
   "outputs": [
    {
     "name": "stdout",
     "output_type": "stream",
     "text": [
      "number of model params: 22334\n"
     ]
    }
   ],
   "source": [
    "extra_hidden = 44\n",
    "class CNN_3FC(nn.Module):\n",
    "    def __init__(self):\n",
    "        super(CNN_3FC, self).__init__() # input: 28*28\n",
    "        self.conv1 = nn.Conv2d(3, 10, kernel_size=5) # 24*24*10\n",
    "        self.conv2 = nn.Conv2d(10, 20, kernel_size=5) # 8*8*20\n",
    "        self.conv2_drop = nn.Dropout2d() # p=0.5 by default # 8*8*20\n",
    "        self.fc1 = nn.Linear(320, extra_hidden) # total of 16500 params in FC\n",
    "        self.fc2 = nn.Linear(extra_hidden, extra_hidden)\n",
    "        self.fc3 = nn.Linear(extra_hidden, 10)\n",
    "\n",
    "    def forward(self, x):\n",
    "        x = F.relu(F.max_pool2d(self.conv1(x), 2)) # 12*12*10\n",
    "        x = F.relu(F.max_pool2d(self.conv2_drop(self.conv2(x)), 2)) # 4*4*20 but half of params are 0\n",
    "        x = x.view(-1, 320) # flatten\n",
    "        x = F.relu(self.fc1(x))\n",
    "        x = F.relu(self.fc2(x))\n",
    "        x = F.dropout(x, training=self.training)\n",
    "        x = self.fc3(x)\n",
    "        return F.log_softmax(x, dim=1)\n",
    "\n",
    "model = CNN_3FC()\n",
    "model_parameters = filter(lambda p: p.requires_grad, model.parameters())\n",
    "num_params = sum([np.prod(p.size()) for p in model_parameters])\n",
    "print('number of model params:', num_params)\n",
    "if args.cuda:\n",
    "    model.cuda()\n",
    "\n",
    "optimizer = optim.SGD(model.parameters(), lr=args.lr, momentum=args.momentum)\n",
    "\n",
    "def train(epoch):\n",
    "    model.train() # set to training mode\n",
    "    for batch_idx, (data, target) in enumerate(train_loader):\n",
    "        if args.cuda:\n",
    "            data, target = data.cuda(), target.cuda()\n",
    "        data, target = Variable(data), Variable(target) # not storing gradients\n",
    "        optimizer.zero_grad()\n",
    "        output = model(data)\n",
    "        loss = F.nll_loss(output, target)\n",
    "        loss.backward()\n",
    "        optimizer.step()\n",
    "        if batch_idx % args.log_interval == 0:\n",
    "            print('Train Epoch: {} [{}/{} ({:.0f}%)]\\tLoss: {:.6f}'.format(\n",
    "                epoch, batch_idx * len(data), len(train_loader.dataset),\n",
    "                100. * batch_idx / len(train_loader), loss.data[0]))\n",
    "\n",
    "def trained_epoch(epoch):\n",
    "    model.eval()# set to evaluation mode\n",
    "    trained_loss = 0\n",
    "    correct = 0\n",
    "    for data, target in train_loader:\n",
    "        if args.cuda:\n",
    "            data, target = data.cuda(), target.cuda()\n",
    "        data, target = Variable(data, volatile=True), Variable(target) # no intermediate states will be saved\n",
    "        output = model(data)\n",
    "        trained_loss += F.nll_loss(output, target, size_average=False).data[0] # want to average loss over entire test set, not just minibatch\n",
    "        pred = output.data.max(1, keepdim=True)[1] # get the index of the max log-probability\n",
    "        correct += pred.eq(target.data.view_as(pred)).long().cpu().sum()\n",
    "    \n",
    "    trained_loss /= len(train_loader.dataset)\n",
    "    trained_accuracy = correct / len(train_loader.dataset)\n",
    "    writer.add_scalar('data/deep_train_loss', trained_loss, epoch) # try add_scalars() later\n",
    "    writer.add_scalar('data/deep_train_accuracy', trained_accuracy, epoch)\n",
    "    print('\\nTrain set: Average loss: {:.4f}, Accuracy: {}/{} ({:.0f}%)'.format(\n",
    "        trained_loss, correct, len(train_loader.dataset),\n",
    "        100. * trained_accuracy))\n",
    "            \n",
    "def test(epoch):\n",
    "    model.eval()# set to evaluation mode\n",
    "    test_loss = 0\n",
    "    correct = 0\n",
    "    for data, target in test_loader:\n",
    "        if args.cuda:\n",
    "            data, target = data.cuda(), target.cuda()\n",
    "        data, target = Variable(data, volatile=True), Variable(target) # no intermediate states will be saved\n",
    "        output = model(data)\n",
    "        test_loss += F.nll_loss(output, target, size_average=False).data[0] # want to average loss over entire test set, not just minibatch\n",
    "        pred = output.data.max(1, keepdim=True)[1] # get the index of the max log-probability\n",
    "        correct += pred.eq(target.data.view_as(pred)).long().cpu().sum()\n",
    "\n",
    "    test_loss /= len(test_loader.dataset)\n",
    "    test_accuracy = correct / len(test_loader.dataset)\n",
    "    writer.add_scalar('data/deep_test_loss', test_loss, epoch) # try add_scalars() later\n",
    "    writer.add_scalar('data/deep_test_accuracy', test_accuracy, epoch)\n",
    "    print('\\nTest set: Average loss: {:.4f}, Accuracy: {}/{} ({:.0f}%)\\n'.format(\n",
    "        test_loss, correct, len(test_loader.dataset),\n",
    "        100. * test_accuracy))\n",
    "    \n",
    "    writer.export_scalars_to_json(\"./CNN_3FC.json\")"
   ]
  },
  {
   "cell_type": "markdown",
   "metadata": {},
   "source": [
    "### 5FC"
   ]
  },
  {
   "cell_type": "code",
   "execution_count": 18,
   "metadata": {},
   "outputs": [
    {
     "name": "stdout",
     "output_type": "stream",
     "text": [
      "number of model params: 21755\n"
     ]
    }
   ],
   "source": [
    "extra_hidden = 37\n",
    "name = '5FC'\n",
    "class CNN_5FC(nn.Module):\n",
    "    def __init__(self):\n",
    "        super(CNN_5FC, self).__init__() # input: 28*28\n",
    "        self.conv1 = nn.Conv2d(1, 10, kernel_size=5) # 24*24*10\n",
    "        self.conv2 = nn.Conv2d(10, 20, kernel_size=5) # 8*8*20\n",
    "        self.conv2_drop = nn.Dropout2d() # p=0.5 by default # 8*8*20\n",
    "        self.fc1 = nn.Linear(320, extra_hidden) # total of 16500 params in FC\n",
    "        self.fc2 = nn.Linear(extra_hidden, extra_hidden)\n",
    "        self.fc3 = nn.Linear(extra_hidden, extra_hidden)\n",
    "        self.fc4 = nn.Linear(extra_hidden, extra_hidden)\n",
    "        self.fc5 = nn.Linear(extra_hidden, 10)\n",
    "\n",
    "    def forward(self, x):\n",
    "        x = F.relu(F.max_pool2d(self.conv1(x), 2)) # 12*12*10\n",
    "        x = F.relu(F.max_pool2d(self.conv2_drop(self.conv2(x)), 2)) # 4*4*20 but half of params are 0\n",
    "        x = x.view(-1, 320) # flatten\n",
    "        x = F.relu(self.fc1(x))\n",
    "        x = F.relu(self.fc2(x))\n",
    "        x = F.relu(self.fc3(x))\n",
    "        x = F.relu(self.fc4(x))\n",
    "        x = F.dropout(x, training=self.training)\n",
    "        x = self.fc5(x)\n",
    "        return F.log_softmax(x, dim=1)\n",
    "\n",
    "model = CNN_5FC()\n",
    "model_parameters = filter(lambda p: p.requires_grad, model.parameters())\n",
    "num_params = sum([np.prod(p.size()) for p in model_parameters])\n",
    "print('number of model params:', num_params)\n",
    "if args.cuda:\n",
    "    model.cuda()\n",
    "\n",
    "optimizer = optim.SGD(model.parameters(), lr=args.lr, momentum=args.momentum)\n",
    "\n",
    "def train(epoch):\n",
    "    model.train() # set to training mode\n",
    "    for batch_idx, (data, target) in enumerate(train_loader):\n",
    "        if args.cuda:\n",
    "            data, target = data.cuda(), target.cuda()\n",
    "        data, target = Variable(data), Variable(target) # not storing gradients\n",
    "        optimizer.zero_grad()\n",
    "        output = model(data)\n",
    "        loss = F.nll_loss(output, target)\n",
    "        loss.backward()\n",
    "        optimizer.step()\n",
    "        if batch_idx % args.log_interval == 0:\n",
    "            print('Train Epoch: {} [{}/{} ({:.0f}%)]\\tLoss: {:.6f}'.format(\n",
    "                epoch, batch_idx * len(data), len(train_loader.dataset),\n",
    "                100. * batch_idx / len(train_loader), loss.data[0]))\n",
    "\n",
    "def trained_epoch(epoch):\n",
    "    model.eval()# set to evaluation mode\n",
    "    trained_loss = 0\n",
    "    correct = 0\n",
    "    for data, target in train_loader:\n",
    "        if args.cuda:\n",
    "            data, target = data.cuda(), target.cuda()\n",
    "        data, target = Variable(data, volatile=True), Variable(target) # no intermediate states will be saved\n",
    "        output = model(data)\n",
    "        trained_loss += F.nll_loss(output, target, size_average=False).data[0] # want to average loss over entire test set, not just minibatch\n",
    "        pred = output.data.max(1, keepdim=True)[1] # get the index of the max log-probability\n",
    "        correct += pred.eq(target.data.view_as(pred)).long().cpu().sum()\n",
    "    \n",
    "    trained_loss /= len(train_loader.dataset)\n",
    "    trained_accuracy = correct / len(train_loader.dataset)\n",
    "    writer.add_scalar('{}/deep_train_loss'.format(name), trained_loss, epoch) # try add_scalars() later\n",
    "    writer.add_scalar('{}/deep_train_accuracy'.format(name), trained_accuracy, epoch)\n",
    "    print('\\nTrain set: Average loss: {:.4f}, Accuracy: {}/{} ({:.0f}%)'.format(\n",
    "        trained_loss, correct, len(train_loader.dataset),\n",
    "        100. * trained_accuracy))\n",
    "            \n",
    "def test(epoch):\n",
    "    model.eval()# set to evaluation mode\n",
    "    test_loss = 0\n",
    "    correct = 0\n",
    "    for data, target in test_loader:\n",
    "        if args.cuda:\n",
    "            data, target = data.cuda(), target.cuda()\n",
    "        data, target = Variable(data, volatile=True), Variable(target) # no intermediate states will be saved\n",
    "        output = model(data)\n",
    "        test_loss += F.nll_loss(output, target, size_average=False).data[0] # want to average loss over entire test set, not just minibatch\n",
    "        pred = output.data.max(1, keepdim=True)[1] # get the index of the max log-probability\n",
    "        correct += pred.eq(target.data.view_as(pred)).long().cpu().sum()\n",
    "\n",
    "    test_loss /= len(test_loader.dataset)\n",
    "    test_accuracy = correct / len(test_loader.dataset)\n",
    "    writer.add_scalar('{}/deep_test_loss'.format(name), test_loss, epoch) # try add_scalars() later\n",
    "    writer.add_scalar('{}/deep_test_accuracy'.format(name), test_accuracy, epoch)\n",
    "    print('\\nTest set: Average loss: {:.4f}, Accuracy: {}/{} ({:.0f}%)\\n'.format(\n",
    "        test_loss, correct, len(test_loader.dataset),\n",
    "        100. * test_accuracy))\n",
    "    \n",
    "    writer.export_scalars_to_json(\"./CNN_{}.json\".format(name))"
   ]
  },
  {
   "cell_type": "code",
   "execution_count": 35,
   "metadata": {
    "collapsed": true
   },
   "outputs": [],
   "source": [
    "for epoch in range(1, args.epochs + 1):\n",
    "    train(epoch)\n",
    "    trained_epoch(epoch)\n",
    "    test(epoch)\n",
    "writer.close()"
   ]
  },
  {
   "cell_type": "code",
   "execution_count": 39,
   "metadata": {
    "collapsed": true
   },
   "outputs": [],
   "source": [
    "# need to comment out model's cuda() before writing graph\n",
    "with SummaryWriter(comment='MNIST_2FC') as w:\n",
    "    dummy_input = Variable(torch.rand(1000, 1, 28, 28))\n",
    "    w.add_graph(model, (dummy_input, ))"
   ]
  },
  {
   "cell_type": "markdown",
   "metadata": {},
   "source": [
    "# Plot loss and accuracy"
   ]
  },
  {
   "cell_type": "code",
   "execution_count": 41,
   "metadata": {
    "collapsed": true
   },
   "outputs": [],
   "source": [
    "model_logs = {}\n",
    "for model_id in [2,3,5]:\n",
    "    data = json.load(open('CNN_{}FC.json'.format(model_id)))\n",
    "    model_logs[model_id] = {'loss': np.array(data['train_loss'])[:,2],\n",
    "                           'accuracy': np.array(data['train_accuracy'])[:,2]}"
   ]
  },
  {
   "cell_type": "code",
   "execution_count": 36,
   "metadata": {},
   "outputs": [
    {
     "data": {
      "text/plain": [
       "20"
      ]
     },
     "execution_count": 36,
     "metadata": {},
     "output_type": "execute_result"
    }
   ],
   "source": [
    "len(model_logs[2]['loss'])"
   ]
  },
  {
   "cell_type": "code",
   "execution_count": 46,
   "metadata": {},
   "outputs": [
    {
     "data": {
      "image/png": "[encoded data removed]",
      "text/plain": [
       "<matplotlib.figure.Figure at 0x7f9a0a596b38>"
      ]
     },
     "metadata": {},
     "output_type": "display_data"
    }
   ],
   "source": [
    "mode = 'loss'\n",
    "x = [i+1 for i in range(len(model_logs[2][mode]))]\n",
    "acc_2FC, = plt.plot(x, model_logs[2][mode], label='2FC')\n",
    "acc_3FC, = plt.plot(x, model_logs[3][mode], label='3FC')\n",
    "acc_5FC, = plt.plot(x, model_logs[5][mode], label='5FC')\n",
    "plt.legend(handles=[acc_2FC, acc_3FC, acc_5FC])\n",
    "plt.xlabel('epoch')\n",
    "plt.ylabel(mode)\n",
    "plt.title('MNIST')\n",
    "plt.savefig('{}.png'.format(mode))\n",
    "plt.show()"
   ]
  },
  {
   "cell_type": "code",
   "execution_count": 47,
   "metadata": {},
   "outputs": [
    {
     "data": {
      "image/png": "[encoded data removed]",
      "text/plain": [
       "<matplotlib.figure.Figure at 0x7f9a0a565f60>"
      ]
     },
     "metadata": {},
     "output_type": "display_data"
    }
   ],
   "source": [
    "mode = 'accuracy'\n",
    "x = [i+1 for i in range(len(model_logs[2][mode]))]\n",
    "acc_2FC, = plt.plot(x, model_logs[2][mode], label='2FC')\n",
    "acc_3FC, = plt.plot(x, model_logs[3][mode], label='3FC')\n",
    "acc_5FC, = plt.plot(x, model_logs[5][mode], label='5FC')\n",
    "plt.legend(handles=[acc_2FC, acc_3FC, acc_5FC])\n",
    "plt.xlabel('epoch')\n",
    "plt.ylabel(mode)\n",
    "plt.title('MNIST')\n",
    "plt.savefig('{}.png'.format(mode))\n",
    "plt.show()"
   ]
  },
  {
   "cell_type": "code",
   "execution_count": null,
   "metadata": {
    "collapsed": true
   },
   "outputs": [],
   "source": []
  }
 ],
 "metadata": {
  "kernelspec": {
   "display_name": "Python 3",
   "language": "python",
   "name": "python3"
  },
  "language_info": {
   "codemirror_mode": {
    "name": "ipython",
    "version": 3
   },
   "file_extension": ".py",
   "mimetype": "text/x-python",
   "name": "python",
   "nbconvert_exporter": "python",
   "pygments_lexer": "ipython3",
   "version": "3.6.5"
  }
 },
 "nbformat": 4,
 "nbformat_minor": 2
}
